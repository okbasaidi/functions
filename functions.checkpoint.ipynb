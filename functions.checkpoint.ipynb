{
 "cells": [
  {
   "cell_type": "code",
   "execution_count": 18,
   "id": "c8493bd4",
   "metadata": {},
   "outputs": [
    {
     "name": "stdout",
     "output_type": "stream",
     "text": [
      "10\n"
     ]
    }
   ],
   "source": [
    "a=2\n",
    "b=3\n",
    "c=5\n",
    "dd=lambda m:m\n",
    "m=a+b+c\n",
    "print(dd(m))"
   ]
  },
  {
   "cell_type": "code",
   "execution_count": 31,
   "id": "358a6b23",
   "metadata": {},
   "outputs": [
    {
     "name": "stdout",
     "output_type": "stream",
     "text": [
      "588\n"
     ]
    }
   ],
   "source": [
    "def maxx(a,b,c):\n",
    "    if a>b:\n",
    "        return(a)\n",
    "    if b>c:\n",
    "        return(b)\n",
    "    else:\n",
    "        return(c)\n",
    "print(maxx(29,53,588))"
   ]
  },
  {
   "cell_type": "code",
   "execution_count": 2,
   "id": "1b4706d7",
   "metadata": {},
   "outputs": [
    {
     "name": "stdout",
     "output_type": "stream",
     "text": [
      "(30, 11)\n"
     ]
    }
   ],
   "source": [
    "def subadd(a,b):\n",
    "    m=a+b\n",
    "    s=a*b\n",
    "    return(s,m)\n",
    "print(subadd(5,6))"
   ]
  },
  {
   "cell_type": "code",
   "execution_count": 5,
   "id": "adda578c",
   "metadata": {},
   "outputs": [
    {
     "name": "stdout",
     "output_type": "stream",
     "text": [
      "15\n"
     ]
    }
   ],
   "source": [
    "def sumlist1(list1):\n",
    "    #list1=[1,2,3,4,5]\n",
    "    #list2=[6,5,4,3,2]\n",
    "    result=0\n",
    "    for i in range(0,len(list1),1):\n",
    "        result=result+list1[i]\n",
    "    return(result)\n",
    "list1=[1,2,3,4,5]\n",
    "print(sumlist1(list1))\n",
    "\n"
   ]
  },
  {
   "cell_type": "code",
   "execution_count": 6,
   "id": "8292efdf",
   "metadata": {},
   "outputs": [],
   "source": [
    "def sumlist():\n",
    "    l=int(input())\n",
    "    list1=[]\n",
    "    for i in range(0,l,1):\n",
    "        wr=int(input())\n",
    "        list1.append(wr)\n",
    "    result=0\n",
    "    for i in range(0,len(list1),1):\n",
    "        result=result+list1[i]\n",
    "    return(list1,result)\n",
    "#list1=[1,2,3,4,5]\n",
    "\n",
    "\n"
   ]
  },
  {
   "cell_type": "code",
   "execution_count": 31,
   "id": "65fa92e9",
   "metadata": {},
   "outputs": [
    {
     "name": "stdout",
     "output_type": "stream",
     "text": [
      "5\n",
      "4\n",
      "5\n",
      "6\n",
      "7\n",
      "8\n"
     ]
    },
    {
     "data": {
      "text/plain": [
       "([4, 5, 6, 7, 8], 6720)"
      ]
     },
     "execution_count": 31,
     "metadata": {},
     "output_type": "execute_result"
    }
   ],
   "source": [
    "def mult():\n",
    "    l=int(input())\n",
    "    lists=[]\n",
    "    for i in range(0,l,1):\n",
    "        wr=int(input())\n",
    "        lists.append(wr)\n",
    "    \n",
    "    result=1\n",
    "    for i in range(0,len(lists),1):\n",
    "        result=result*lists[i]\n",
    "    return(lists,result)\n",
    "#list1=[1,2,3,4,5]\n",
    "mult()"
   ]
  },
  {
   "cell_type": "code",
   "execution_count": 32,
   "id": "67e42135",
   "metadata": {},
   "outputs": [
    {
     "name": "stdout",
     "output_type": "stream",
     "text": [
      "15\n",
      "([1, 2, 3, 4, 5], 120)\n",
      "[1, 3, 5]\n",
      "[2, 4]\n",
      "9\n",
      "8\n"
     ]
    }
   ],
   "source": [
    "def sumlist1(list1):\n",
    "    #list1=[1,2,3,4,5]\n",
    "    #list2=[6,5,4,3,2]\n",
    "    result=0\n",
    "    for i in range(0,len(list1),1):\n",
    "        result=result+list1[i]\n",
    "    return(result)\n",
    "list1=[1,2,3,4,5]\n",
    "print(sumlist1(list1))\n",
    "def mult(list1):\n",
    "    result=1\n",
    "    for i in range(0,len(list1),1):\n",
    "        result=result*list1[i]\n",
    "    return(list1,result)\n",
    "list1=[1,2,3,4,5]\n",
    "print(mult(list1))\n",
    "even=[]\n",
    "odd=[]\n",
    "for i in range(0,len(list1),1):\n",
    "    if (i%2==0):\n",
    "        even.append(list1[i])\n",
    "    else:\n",
    "        odd.append(list1[i])\n",
    "print(even)\n",
    "print(odd)\n",
    "sm=0\n",
    "st=1\n",
    "for i in range(0,len(even),1):\n",
    "    sm=sm+even[i]\n",
    "print(sm)\n",
    "for i in range(0,len(odd),1):\n",
    "    st=st*odd[i]\n",
    "print(st)"
   ]
  },
  {
   "cell_type": "code",
   "execution_count": 7,
   "id": "deb185b3",
   "metadata": {},
   "outputs": [
    {
     "name": "stdout",
     "output_type": "stream",
     "text": [
      ":green-yellow-black-white\n",
      "black-green-white-yellow\n"
     ]
    }
   ],
   "source": [
    "words=input(':')\n",
    "sp=words.split('-')\n",
    "sp.sort()\n",
    "print('-'.join(sp))\n",
    "\n"
   ]
  },
  {
   "cell_type": "code",
   "execution_count": 37,
   "id": "b326e3c7",
   "metadata": {},
   "outputs": [
    {
     "name": "stdout",
     "output_type": "stream",
     "text": [
      "10\n"
     ]
    },
    {
     "data": {
      "text/plain": [
       "6"
      ]
     },
     "execution_count": 37,
     "metadata": {},
     "output_type": "execute_result"
    }
   ],
   "source": [
    "\n",
    "def square():\n",
    "    import math\n",
    "    y=int(input())\n",
    "    x=50\n",
    "    z=30\n",
    "    f=(2*x*y)/z\n",
    "    a=math.sqrt(f)\n",
    "    fx=round(a)\n",
    "    return(fx)\n",
    "square()\n"
   ]
  },
  {
   "cell_type": "code",
   "execution_count": null,
   "id": "7059c4df",
   "metadata": {},
   "outputs": [],
   "source": []
  }
 ],
 "metadata": {
  "kernelspec": {
   "display_name": "Python 3 (ipykernel)",
   "language": "python",
   "name": "python3"
  },
  "language_info": {
   "codemirror_mode": {
    "name": "ipython",
    "version": 3
   },
   "file_extension": ".py",
   "mimetype": "text/x-python",
   "name": "python",
   "nbconvert_exporter": "python",
   "pygments_lexer": "ipython3",
   "version": "3.9.7"
  }
 },
 "nbformat": 4,
 "nbformat_minor": 5
}
